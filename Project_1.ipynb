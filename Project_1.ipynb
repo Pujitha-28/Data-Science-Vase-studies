{
  "nbformat": 4,
  "nbformat_minor": 0,
  "metadata": {
    "colab": {
      "private_outputs": true,
      "provenance": [],
      "mount_file_id": "1ACXYa32RdZ7UdAKl3PqQTv7AJVMKkcyX",
      "authorship_tag": "ABX9TyNsmIOhJJIswgE3XiQimn3o",
      "include_colab_link": true
    },
    "kernelspec": {
      "name": "python3",
      "display_name": "Python 3"
    },
    "language_info": {
      "name": "python"
    }
  },
  "cells": [
    {
      "cell_type": "markdown",
      "metadata": {
        "id": "view-in-github",
        "colab_type": "text"
      },
      "source": [
        "<a href=\"https://colab.research.google.com/github/Pujitha-28/Data-Science-Vase-studies/blob/main/Project_1.ipynb\" target=\"_parent\"><img src=\"https://colab.research.google.com/assets/colab-badge.svg\" alt=\"Open In Colab\"/></a>"
      ]
    },
    {
      "cell_type": "code",
      "execution_count": null,
      "metadata": {
        "id": "w7O5G-AHKo3c"
      },
      "outputs": [],
      "source": [
        "from google.colab import drive\n",
        "drive.mount('/content/drive')"
      ]
    },
    {
      "cell_type": "code",
      "source": [
        "import pandas as pd\n",
        "import numpy as np\n",
        "import matplotlib.pyplot as plt\n",
        "from pandas import read_csv\n",
        "path=\"/content/drive/MyDrive/energy.csv\"\n",
        "electricity=pd.read_csv(path)\n",
        "print(electricity)\n",
        "print(electricity.shape)\n",
        "print(electricity.head(5))\n",
        "print(electricity.tail(4))\n",
        "print(electricity.info())\n",
        "print(electricity.describe())\n",
        "print(\"column data\")\n",
        "print(electricity.columns)\n",
        "print(electricity[electricity['State'].str.startswith('M')])\n",
        "print(electricity[electricity['State'].str.endswith('a')])\n",
        "rcb=electricity[electricity['State']=='Andhra']\n",
        "rcb1=electricity[electricity['State']=='Manipur']\n",
        "print(len(rcb))\n",
        "print(len(rcb1))\n",
        "print(electricity.sort_values(by='State'))\n",
        "print(np.max(electricity['Consumption']))\n",
        "print(np.min(electricity['Consumption']))\n",
        "print(np.mean(electricity['Consumption']))\n",
        "#print max unit for andhra\n",
        "print(electricity[electricity['State']=='Andhara']['Consumption'].max())\n",
        "print(electricity[electricity['State']=='Andhara']['Consumption'].min())"
      ],
      "metadata": {
        "id": "N2G0Ek6gNl8y"
      },
      "execution_count": null,
      "outputs": []
    },
    {
      "cell_type": "code",
      "source": [
        "print(electricity[electricity['State']=='Andhra']['Consumption'].max())\n",
        "print(electricity[electricity['State']=='Andhra']['Consumption'].min())"
      ],
      "metadata": {
        "id": "ivitFLT_Nny2"
      },
      "execution_count": null,
      "outputs": []
    },
    {
      "cell_type": "code",
      "source": [
        "#state_data=electricity[electricity['State]=='Andhara]\n",
        "state1_data=electricity[electricity['State']=='Andhra']\n",
        "print(\"Andhra Date\")\n",
        "print(state1_data)\n",
        "state2_data = electricity[electricity['State']=='Karnataka']\n",
        "state4_data=electricity[electricity['State']=='Telengana']\n",
        "state5_data=electricity[electricity['State']=='Tripura']\n",
        "\n",
        "#line chart\n",
        "\n",
        "fig,axes =plt.subplots(2)\n",
        "axes[0].plot(state1_data['Date'],state1_data['Consumption'],marker='*',color='red')\n",
        "axes[1].plot(state1_data['Date'],state2_data['Consumption'],marker='^',color='green')\n",
        "\n"
      ],
      "metadata": {
        "id": "KmufNS-ZNrIE"
      },
      "execution_count": null,
      "outputs": []
    },
    {
      "cell_type": "code",
      "source": [
        "import pandas as pd\n",
        "import matplotlib.pyplot as plt\n",
        "\n",
        "# Sample data\n",
        "data = {\n",
        "    'Product': ['A', 'B', 'C', 'D'],\n",
        "    'Sales': [150, 200, 300, 100]\n",
        "}\n",
        "\n",
        "# Create DataFrame\n",
        "df = pd.DataFrame(data)\n",
        "\n",
        "# Create bar plot\n",
        "df.plot(x='Product', y='Sales', kind='bar', color='skyblue')\n",
        "plt.xlabel('Product')\n",
        "plt.ylabel('Sales')\n",
        "plt.title('Sales by Product')\n",
        "plt.show()"
      ],
      "metadata": {
        "id": "H599ucg2N4X4"
      },
      "execution_count": null,
      "outputs": []
    },
    {
      "cell_type": "code",
      "source": [
        "import pandas as pd\n",
        "import matplotlib.pyplot as plt\n",
        "\n",
        "# Sample data\n",
        "data = {\n",
        "    'Month': ['Jan', 'Feb', 'Mar', 'Apr', 'May', 'Jun'],\n",
        "    'Sales': [200, 220, 250, 270, 300, 320]\n",
        "}\n",
        "\n",
        "# Create DataFrame\n",
        "df = pd.DataFrame(data)\n",
        "\n",
        "# Create line plot\n",
        "df.plot(x='Month', y='Sales', kind='line', marker='o')\n",
        "plt.xlabel('Month')\n",
        "plt.ylabel('Sales')\n",
        "plt.title('Monthly Sales')\n",
        "plt.show()"
      ],
      "metadata": {
        "id": "Pc6hCOssN8Qs"
      },
      "execution_count": null,
      "outputs": []
    },
    {
      "cell_type": "code",
      "source": [
        "#bar start\n",
        "fig1,axes1 = plt.subplots(2)\n",
        "axes1[0].bar(state4_data['Date'],state4_data['Consumption'],color='yellow')\n",
        "axes1[1].bar(state5_data['Date'],state5_data['Consumption'],color='pink')"
      ],
      "metadata": {
        "id": "ofkbzyvUOAdw"
      },
      "execution_count": null,
      "outputs": []
    },
    {
      "cell_type": "code",
      "source": [
        "#pie chart\n",
        "fig2,axes2=plt.subplots(2)\n",
        "state1='UP'\n",
        "state2='Kerala'\n",
        "state3='Mizoram'\n",
        "state4='Delhi'\n",
        "\n",
        "labels=[state1,state2]\n",
        "state1_total=electricity[electricity['State']==state1]['Consumption'].sum()\n",
        "state2_total=electricity[electricity['State']==state2]['Consumption'].sum()\n",
        "\n",
        "#energy should be a list of numerical values\n",
        "energy=[state1_total,state2_total]\n",
        "axes2[0].pie(energy,labels=labels,autopct='%1.1f%%')"
      ],
      "metadata": {
        "id": "CH9zJhgyOEpD"
      },
      "execution_count": null,
      "outputs": []
    }
  ]
}